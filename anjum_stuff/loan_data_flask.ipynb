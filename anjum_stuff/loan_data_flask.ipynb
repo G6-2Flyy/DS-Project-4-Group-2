{
 "cells": [
  {
   "cell_type": "code",
   "execution_count": 1,
   "id": "5d72d7b4",
   "metadata": {},
   "outputs": [
    {
     "data": {
      "text/html": [
       "<style>.container { width:100% !important; }</style>"
      ],
      "text/plain": [
       "<IPython.core.display.HTML object>"
      ]
     },
     "metadata": {},
     "output_type": "display_data"
    }
   ],
   "source": [
    "from IPython.display import display, HTML\n",
    "display(HTML(\"<style>.container { width:100% !important; }</style>\"))"
   ]
  },
  {
   "cell_type": "code",
   "execution_count": 2,
   "id": "5c6044b4",
   "metadata": {},
   "outputs": [],
   "source": [
    "import pandas as pd\n",
    "import numpy as np"
   ]
  },
  {
   "cell_type": "code",
   "execution_count": 3,
   "id": "e1ccbb44",
   "metadata": {},
   "outputs": [],
   "source": [
    "dfl = pd.read_csv(\"loan_data/loan_data_clean.csv\")"
   ]
  },
  {
   "cell_type": "code",
   "execution_count": 5,
   "id": "6b4022d7",
   "metadata": {},
   "outputs": [
    {
     "name": "stdout",
     "output_type": "stream",
     "text": [
      "<class 'pandas.core.frame.DataFrame'>\n",
      "RangeIndex: 35365 entries, 0 to 35364\n",
      "Data columns (total 24 columns):\n",
      " #   Column                     Non-Null Count  Dtype  \n",
      "---  ------                     --------------  -----  \n",
      " 0   id                         35365 non-null  int64  \n",
      " 1   loan_amnt                  35365 non-null  int64  \n",
      " 2   term                       35365 non-null  int64  \n",
      " 3   int_rate                   35365 non-null  float64\n",
      " 4   installment                35365 non-null  float64\n",
      " 5   sub_grade                  35365 non-null  int64  \n",
      " 6   emp_length                 35365 non-null  int64  \n",
      " 7   home_ownership             35365 non-null  object \n",
      " 8   annual_inc                 35365 non-null  float64\n",
      " 9   verification_status        35365 non-null  object \n",
      " 10  issue_d                    35365 non-null  int64  \n",
      " 11  loan_status                35365 non-null  int64  \n",
      " 12  purpose                    35365 non-null  object \n",
      " 13  dti                        35365 non-null  float64\n",
      " 14  delinq_2yrs                35365 non-null  int64  \n",
      " 15  inq_last_6mths             35365 non-null  int64  \n",
      " 16  open_acc                   35365 non-null  int64  \n",
      " 17  revol_bal                  35365 non-null  int64  \n",
      " 18  revol_util                 35365 non-null  float64\n",
      " 19  total_acc                  35365 non-null  int64  \n",
      " 20  pub_rec_bankruptcies       35365 non-null  float64\n",
      " 21  fed_reserve_region         35365 non-null  int64  \n",
      " 22  last_credit_pull_d_int     35365 non-null  int64  \n",
      " 23  last_credit_pull_datetime  35365 non-null  object \n",
      "dtypes: float64(6), int64(14), object(4)\n",
      "memory usage: 6.5+ MB\n"
     ]
    }
   ],
   "source": [
    "dfl.info()"
   ]
  },
  {
   "cell_type": "code",
   "execution_count": 6,
   "id": "02799959",
   "metadata": {},
   "outputs": [],
   "source": [
    "dflt = pd.read_csv(\"loan_data/loan_data_tableau_final.csv\")"
   ]
  },
  {
   "cell_type": "code",
   "execution_count": 7,
   "id": "e9d4984f",
   "metadata": {},
   "outputs": [
    {
     "name": "stdout",
     "output_type": "stream",
     "text": [
      "<class 'pandas.core.frame.DataFrame'>\n",
      "RangeIndex: 35365 entries, 0 to 35364\n",
      "Data columns (total 24 columns):\n",
      " #   Column                                       Non-Null Count  Dtype  \n",
      "---  ------                                       --------------  -----  \n",
      " 0   Applicant Id                                 35365 non-null  int64  \n",
      " 1   loan Amount                                  35365 non-null  int64  \n",
      " 2   Loan Term                                    35365 non-null  int64  \n",
      " 3   Interest Rate                                35365 non-null  float64\n",
      " 4   Installment                                  35365 non-null  float64\n",
      " 5   Subgrade                                     35365 non-null  object \n",
      " 6   Employment Length (Years)                    35365 non-null  int64  \n",
      " 7   Home Ownership                               35365 non-null  object \n",
      " 8   Annual Income                                35365 non-null  float64\n",
      " 9   Date of Issue                                35365 non-null  object \n",
      " 10  Loan Status                                  35365 non-null  object \n",
      " 11  Purpose                                      35365 non-null  object \n",
      " 12  Debt to Income Ratio                         35365 non-null  float64\n",
      " 13  Number of Delinquencies Over Past Two Years  35365 non-null  int64  \n",
      " 14  Number of Credit Inquiries Past 6 Months     35365 non-null  int64  \n",
      " 15  Number of Open Credit Lines                  35365 non-null  int64  \n",
      " 16  Total Credit                                 35365 non-null  int64  \n",
      " 17  Ratio of Total Credit Utilized               35365 non-null  float64\n",
      " 18  Total Number of Credit Lines                 35365 non-null  int64  \n",
      " 19  Number of Recent Bankruptcies                35365 non-null  int64  \n",
      " 20  Federal Reserve Region                       35365 non-null  int64  \n",
      " 21  Date of Last Credit Pull                     35365 non-null  object \n",
      " 22  Grade                                        35365 non-null  object \n",
      " 23  State of Address                             35365 non-null  object \n",
      "dtypes: float64(5), int64(11), object(8)\n",
      "memory usage: 6.5+ MB\n"
     ]
    }
   ],
   "source": [
    "dflt.info()"
   ]
  },
  {
   "cell_type": "code",
   "execution_count": 12,
   "id": "b9a14cf3",
   "metadata": {},
   "outputs": [
    {
     "data": {
      "text/plain": [
       "B    10718\n",
       "A     9140\n",
       "C     7180\n",
       "D     4662\n",
       "E     2481\n",
       "F      902\n",
       "G      282\n",
       "Name: Grade, dtype: int64"
      ]
     },
     "execution_count": 12,
     "metadata": {},
     "output_type": "execute_result"
    }
   ],
   "source": [
    "dflt[\"Grade\"].value_counts()"
   ]
  }
 ],
 "metadata": {
  "kernelspec": {
   "display_name": "Python 3 (ipykernel)",
   "language": "python",
   "name": "python3"
  },
  "language_info": {
   "codemirror_mode": {
    "name": "ipython",
    "version": 3
   },
   "file_extension": ".py",
   "mimetype": "text/x-python",
   "name": "python",
   "nbconvert_exporter": "python",
   "pygments_lexer": "ipython3",
   "version": "3.9.12"
  }
 },
 "nbformat": 4,
 "nbformat_minor": 5
}
