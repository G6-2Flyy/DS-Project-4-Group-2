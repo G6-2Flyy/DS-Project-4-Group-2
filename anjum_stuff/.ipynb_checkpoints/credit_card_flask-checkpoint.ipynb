{
 "cells": [
  {
   "cell_type": "code",
   "execution_count": 1,
   "id": "e245f305",
   "metadata": {},
   "outputs": [
    {
     "data": {
      "text/html": [
       "<style>.container { width:100% !important; }</style>"
      ],
      "text/plain": [
       "<IPython.core.display.HTML object>"
      ]
     },
     "metadata": {},
     "output_type": "display_data"
    }
   ],
   "source": [
    "from IPython.display import display, HTML\n",
    "display(HTML(\"<style>.container { width:100% !important; }</style>\"))"
   ]
  },
  {
   "cell_type": "code",
   "execution_count": 2,
   "id": "1949e0dc",
   "metadata": {},
   "outputs": [],
   "source": [
    "import pandas as pd\n",
    "import numpy as np\n",
    "import matplotlib.pyplot as plt\n",
    "import seaborn as sns"
   ]
  },
  {
   "cell_type": "code",
   "execution_count": 56,
   "id": "ae8e3269",
   "metadata": {},
   "outputs": [],
   "source": [
    "dfccml = pd.read_csv(\"credit_card/ml_ready_credit_card.csv\")"
   ]
  },
  {
   "cell_type": "code",
   "execution_count": 25,
   "id": "70defdfe",
   "metadata": {},
   "outputs": [],
   "source": [
    "dfcc = pd.read_csv(\"credit_card/clean_data.csv\")"
   ]
  },
  {
   "cell_type": "code",
   "execution_count": 57,
   "id": "9776ef8a",
   "metadata": {},
   "outputs": [
    {
     "data": {
      "text/html": [
       "<div>\n",
       "<style scoped>\n",
       "    .dataframe tbody tr th:only-of-type {\n",
       "        vertical-align: middle;\n",
       "    }\n",
       "\n",
       "    .dataframe tbody tr th {\n",
       "        vertical-align: top;\n",
       "    }\n",
       "\n",
       "    .dataframe thead th {\n",
       "        text-align: right;\n",
       "    }\n",
       "</style>\n",
       "<table border=\"1\" class=\"dataframe\">\n",
       "  <thead>\n",
       "    <tr style=\"text-align: right;\">\n",
       "      <th></th>\n",
       "      <th>Gender</th>\n",
       "      <th>Own_car</th>\n",
       "      <th>Own_property</th>\n",
       "      <th>Unemployed</th>\n",
       "      <th>Num_children</th>\n",
       "      <th>Num_family</th>\n",
       "      <th>Account_length</th>\n",
       "      <th>Total_income</th>\n",
       "      <th>Age</th>\n",
       "      <th>Years_employed</th>\n",
       "      <th>...</th>\n",
       "      <th>Occupation_type_Low-skill Laborers</th>\n",
       "      <th>Occupation_type_Managers</th>\n",
       "      <th>Occupation_type_Medicine staff</th>\n",
       "      <th>Occupation_type_Other</th>\n",
       "      <th>Occupation_type_Private service staff</th>\n",
       "      <th>Occupation_type_Realty agents</th>\n",
       "      <th>Occupation_type_Sales staff</th>\n",
       "      <th>Occupation_type_Secretaries</th>\n",
       "      <th>Occupation_type_Security staff</th>\n",
       "      <th>Occupation_type_Waiters/barmen staff</th>\n",
       "    </tr>\n",
       "  </thead>\n",
       "  <tbody>\n",
       "    <tr>\n",
       "      <th>0</th>\n",
       "      <td>1</td>\n",
       "      <td>1</td>\n",
       "      <td>1</td>\n",
       "      <td>0</td>\n",
       "      <td>0</td>\n",
       "      <td>2</td>\n",
       "      <td>15</td>\n",
       "      <td>427500.0</td>\n",
       "      <td>32.868574</td>\n",
       "      <td>12.435574</td>\n",
       "      <td>...</td>\n",
       "      <td>0</td>\n",
       "      <td>0</td>\n",
       "      <td>0</td>\n",
       "      <td>1</td>\n",
       "      <td>0</td>\n",
       "      <td>0</td>\n",
       "      <td>0</td>\n",
       "      <td>0</td>\n",
       "      <td>0</td>\n",
       "      <td>0</td>\n",
       "    </tr>\n",
       "    <tr>\n",
       "      <th>1</th>\n",
       "      <td>1</td>\n",
       "      <td>1</td>\n",
       "      <td>1</td>\n",
       "      <td>0</td>\n",
       "      <td>0</td>\n",
       "      <td>2</td>\n",
       "      <td>29</td>\n",
       "      <td>112500.0</td>\n",
       "      <td>58.793815</td>\n",
       "      <td>3.104787</td>\n",
       "      <td>...</td>\n",
       "      <td>0</td>\n",
       "      <td>0</td>\n",
       "      <td>0</td>\n",
       "      <td>0</td>\n",
       "      <td>0</td>\n",
       "      <td>0</td>\n",
       "      <td>0</td>\n",
       "      <td>0</td>\n",
       "      <td>1</td>\n",
       "      <td>0</td>\n",
       "    </tr>\n",
       "    <tr>\n",
       "      <th>2</th>\n",
       "      <td>0</td>\n",
       "      <td>0</td>\n",
       "      <td>1</td>\n",
       "      <td>0</td>\n",
       "      <td>0</td>\n",
       "      <td>1</td>\n",
       "      <td>4</td>\n",
       "      <td>270000.0</td>\n",
       "      <td>52.321403</td>\n",
       "      <td>8.353354</td>\n",
       "      <td>...</td>\n",
       "      <td>0</td>\n",
       "      <td>0</td>\n",
       "      <td>0</td>\n",
       "      <td>0</td>\n",
       "      <td>0</td>\n",
       "      <td>0</td>\n",
       "      <td>1</td>\n",
       "      <td>0</td>\n",
       "      <td>0</td>\n",
       "      <td>0</td>\n",
       "    </tr>\n",
       "    <tr>\n",
       "      <th>3</th>\n",
       "      <td>0</td>\n",
       "      <td>0</td>\n",
       "      <td>1</td>\n",
       "      <td>1</td>\n",
       "      <td>0</td>\n",
       "      <td>1</td>\n",
       "      <td>20</td>\n",
       "      <td>283500.0</td>\n",
       "      <td>61.504343</td>\n",
       "      <td>0.000000</td>\n",
       "      <td>...</td>\n",
       "      <td>0</td>\n",
       "      <td>0</td>\n",
       "      <td>0</td>\n",
       "      <td>1</td>\n",
       "      <td>0</td>\n",
       "      <td>0</td>\n",
       "      <td>0</td>\n",
       "      <td>0</td>\n",
       "      <td>0</td>\n",
       "      <td>0</td>\n",
       "    </tr>\n",
       "    <tr>\n",
       "      <th>4</th>\n",
       "      <td>1</td>\n",
       "      <td>1</td>\n",
       "      <td>1</td>\n",
       "      <td>0</td>\n",
       "      <td>0</td>\n",
       "      <td>2</td>\n",
       "      <td>5</td>\n",
       "      <td>270000.0</td>\n",
       "      <td>46.193967</td>\n",
       "      <td>2.105450</td>\n",
       "      <td>...</td>\n",
       "      <td>0</td>\n",
       "      <td>0</td>\n",
       "      <td>0</td>\n",
       "      <td>0</td>\n",
       "      <td>0</td>\n",
       "      <td>0</td>\n",
       "      <td>0</td>\n",
       "      <td>0</td>\n",
       "      <td>0</td>\n",
       "      <td>0</td>\n",
       "    </tr>\n",
       "  </tbody>\n",
       "</table>\n",
       "<p>5 rows × 50 columns</p>\n",
       "</div>"
      ],
      "text/plain": [
       "   Gender  Own_car  Own_property  Unemployed  Num_children  Num_family  \\\n",
       "0       1        1             1           0             0           2   \n",
       "1       1        1             1           0             0           2   \n",
       "2       0        0             1           0             0           1   \n",
       "3       0        0             1           1             0           1   \n",
       "4       1        1             1           0             0           2   \n",
       "\n",
       "   Account_length  Total_income        Age  Years_employed  ...  \\\n",
       "0              15      427500.0  32.868574       12.435574  ...   \n",
       "1              29      112500.0  58.793815        3.104787  ...   \n",
       "2               4      270000.0  52.321403        8.353354  ...   \n",
       "3              20      283500.0  61.504343        0.000000  ...   \n",
       "4               5      270000.0  46.193967        2.105450  ...   \n",
       "\n",
       "   Occupation_type_Low-skill Laborers  Occupation_type_Managers  \\\n",
       "0                                   0                         0   \n",
       "1                                   0                         0   \n",
       "2                                   0                         0   \n",
       "3                                   0                         0   \n",
       "4                                   0                         0   \n",
       "\n",
       "   Occupation_type_Medicine staff  Occupation_type_Other  \\\n",
       "0                               0                      1   \n",
       "1                               0                      0   \n",
       "2                               0                      0   \n",
       "3                               0                      1   \n",
       "4                               0                      0   \n",
       "\n",
       "   Occupation_type_Private service staff  Occupation_type_Realty agents  \\\n",
       "0                                      0                              0   \n",
       "1                                      0                              0   \n",
       "2                                      0                              0   \n",
       "3                                      0                              0   \n",
       "4                                      0                              0   \n",
       "\n",
       "   Occupation_type_Sales staff  Occupation_type_Secretaries  \\\n",
       "0                            0                            0   \n",
       "1                            0                            0   \n",
       "2                            1                            0   \n",
       "3                            0                            0   \n",
       "4                            0                            0   \n",
       "\n",
       "   Occupation_type_Security staff  Occupation_type_Waiters/barmen staff  \n",
       "0                               0                                     0  \n",
       "1                               1                                     0  \n",
       "2                               0                                     0  \n",
       "3                               0                                     0  \n",
       "4                               0                                     0  \n",
       "\n",
       "[5 rows x 50 columns]"
      ]
     },
     "execution_count": 57,
     "metadata": {},
     "output_type": "execute_result"
    }
   ],
   "source": [
    "dfccml.head()"
   ]
  },
  {
   "cell_type": "code",
   "execution_count": 54,
   "id": "4f5c9fa2",
   "metadata": {},
   "outputs": [
    {
     "data": {
      "text/plain": [
       "31"
      ]
     },
     "execution_count": 54,
     "metadata": {},
     "output_type": "execute_result"
    }
   ],
   "source": [
    "len(dfccml.columns)"
   ]
  },
  {
   "cell_type": "code",
   "execution_count": 7,
   "id": "b11c3f4b",
   "metadata": {},
   "outputs": [],
   "source": [
    "data = {'Gender': 'Male', 'Own_car': 'Yes', 'Own_property': 'No', 'Unemployed': 'Yes', 'Num_children': 0, 'Num_family': 1, 'Account_length': 30, 'Total_income': 65000, 'Age': 41, 'Years_employed': 15, 'Income_type': 'Working', 'Education_type': 'College Graduate', 'Family_status': 'Single', 'Housing_type': 'Rented Apartment', 'Occupation_type': 'High Skill Technology'}"
   ]
  },
  {
   "cell_type": "code",
   "execution_count": 8,
   "id": "fbdb57b2",
   "metadata": {},
   "outputs": [],
   "source": [
    "gender_dict = {'Male': 1, 'Female': 0}\n",
    "yes_no_dict = {'Yes': 1, 'No': 0}"
   ]
  },
  {
   "cell_type": "code",
   "execution_count": 41,
   "id": "5809eb43",
   "metadata": {},
   "outputs": [
    {
     "data": {
      "text/plain": [
       "['House / apartment',\n",
       " 'With parents',\n",
       " 'Municipal apartment',\n",
       " 'Rented apartment',\n",
       " 'Office apartment',\n",
       " 'Co-op apartment']"
      ]
     },
     "execution_count": 41,
     "metadata": {},
     "output_type": "execute_result"
    }
   ],
   "source": [
    "dfcc.Housing_type.value_counts().index.tolist()"
   ]
  },
  {
   "cell_type": "code",
   "execution_count": 34,
   "id": "2413e998",
   "metadata": {},
   "outputs": [],
   "source": [
    "occupation_type_dict = {'Other': 'Other', 'Labor': 'Laborers', 'Sales': 'Sales staff',\n",
    " 'Core Staff': 'Core staff',\n",
    " 'Manager': 'Managers',\n",
    " 'Transport': 'Drivers',\n",
    " 'High Skill Technology': 'High skill tech staff',\n",
    " 'Accountant': 'Accountants',\n",
    " 'Medical Staff': 'Medicine staff',\n",
    " 'Kitchen Services': 'Cooking staff',\n",
    " 'Security': 'Security staff',\n",
    " 'Cleaning Services': 'Cleaning staff',\n",
    " 'Private Services': 'Private service staff',\n",
    " 'Low-skill Labor': 'Low-skill Laborers',\n",
    " 'Secretary': 'Secretaries',\n",
    " 'Waiter/Bartender': 'Waiters/barmen staff',\n",
    " 'Human Resources': 'HR staff',\n",
    " 'Information Technology': 'IT staff',\n",
    " 'Realtor': 'Realty agents' }"
   ]
  },
  {
   "cell_type": "code",
   "execution_count": 46,
   "id": "7466650c",
   "metadata": {},
   "outputs": [],
   "source": [
    "education_type_dict = {'Secondary': 'Secondary / secondary special',\n",
    " 'College Graduate': 'Higher education',\n",
    " 'Some College': 'Incomplete higher',\n",
    " 'Lower Secondary': 'Lower secondary',\n",
    " 'Post-Graduate Degree': 'Academic degree'}"
   ]
  },
  {
   "cell_type": "code",
   "execution_count": 42,
   "id": "4d3675c5",
   "metadata": {},
   "outputs": [],
   "source": [
    "family_status_dict = {'Married': 'Married', 'Single': 'Single / not married', 'Civil Marriage': 'Civil marriage', 'Separated': 'Separated',\n",
    "                      'Widowed': 'Widow'}"
   ]
  },
  {
   "cell_type": "code",
   "execution_count": 44,
   "id": "1042dd2f",
   "metadata": {},
   "outputs": [],
   "source": [
    "housing_type_dict = {'Own House/Apartment': 'House / apartment',\n",
    " 'With Parents': 'With parents',\n",
    " 'Municipal Apartment': 'Municipal apartment',\n",
    " 'Rented Apartment': 'Rented apartment',\n",
    " 'Office Apartment': 'Office apartment',\n",
    " 'Co-op Apartment': 'Co-op apartment'}"
   ]
  },
  {
   "cell_type": "code",
   "execution_count": 62,
   "id": "bb54790f",
   "metadata": {},
   "outputs": [],
   "source": [
    "data2 = [data]"
   ]
  },
  {
   "cell_type": "code",
   "execution_count": 63,
   "id": "be59f1e4",
   "metadata": {},
   "outputs": [],
   "source": [
    "df = pd.DataFrame(data2)"
   ]
  },
  {
   "cell_type": "code",
   "execution_count": 64,
   "id": "34033525",
   "metadata": {},
   "outputs": [],
   "source": [
    "df.loc[0, 'Gender'] = gender_dict[df.loc[0, 'Gender']]\n",
    "df.loc[0, 'Own_car'] = yes_no_dict[df.loc[0, 'Own_car']]\n",
    "df.loc[0, 'Own_property'] = yes_no_dict[df.loc[0, 'Own_property']]\n",
    "df.loc[0, 'Unemployed'] = yes_no_dict[df.loc[0, 'Unemployed']]"
   ]
  },
  {
   "cell_type": "code",
   "execution_count": 65,
   "id": "ab4758c1",
   "metadata": {},
   "outputs": [],
   "source": [
    "df.loc[0, 'Education_type'] = education_type_dict[df.loc[0, 'Education_type']]\n",
    "df.loc[0, 'Family_status'] = family_status_dict[df.loc[0, 'Family_status']]\n",
    "df.loc[0, 'Housing_type'] = housing_type_dict[df.loc[0, 'Housing_type']]\n",
    "df.loc[0, 'Occupation_type'] = occupation_type_dict[df.loc[0, 'Occupation_type']]"
   ]
  },
  {
   "cell_type": "code",
   "execution_count": 66,
   "id": "18e28a04",
   "metadata": {},
   "outputs": [
    {
     "data": {
      "text/html": [
       "<div>\n",
       "<style scoped>\n",
       "    .dataframe tbody tr th:only-of-type {\n",
       "        vertical-align: middle;\n",
       "    }\n",
       "\n",
       "    .dataframe tbody tr th {\n",
       "        vertical-align: top;\n",
       "    }\n",
       "\n",
       "    .dataframe thead th {\n",
       "        text-align: right;\n",
       "    }\n",
       "</style>\n",
       "<table border=\"1\" class=\"dataframe\">\n",
       "  <thead>\n",
       "    <tr style=\"text-align: right;\">\n",
       "      <th></th>\n",
       "      <th>Gender</th>\n",
       "      <th>Own_car</th>\n",
       "      <th>Own_property</th>\n",
       "      <th>Unemployed</th>\n",
       "      <th>Num_children</th>\n",
       "      <th>Num_family</th>\n",
       "      <th>Account_length</th>\n",
       "      <th>Total_income</th>\n",
       "      <th>Age</th>\n",
       "      <th>Years_employed</th>\n",
       "      <th>Income_type</th>\n",
       "      <th>Education_type</th>\n",
       "      <th>Family_status</th>\n",
       "      <th>Housing_type</th>\n",
       "      <th>Occupation_type</th>\n",
       "    </tr>\n",
       "  </thead>\n",
       "  <tbody>\n",
       "    <tr>\n",
       "      <th>0</th>\n",
       "      <td>1</td>\n",
       "      <td>1</td>\n",
       "      <td>0</td>\n",
       "      <td>1</td>\n",
       "      <td>0</td>\n",
       "      <td>1</td>\n",
       "      <td>30</td>\n",
       "      <td>65000</td>\n",
       "      <td>41</td>\n",
       "      <td>15</td>\n",
       "      <td>Working</td>\n",
       "      <td>Higher education</td>\n",
       "      <td>Single / not married</td>\n",
       "      <td>Rented apartment</td>\n",
       "      <td>High skill tech staff</td>\n",
       "    </tr>\n",
       "  </tbody>\n",
       "</table>\n",
       "</div>"
      ],
      "text/plain": [
       "  Gender Own_car Own_property Unemployed  Num_children  Num_family  \\\n",
       "0      1       1            0          1             0           1   \n",
       "\n",
       "   Account_length  Total_income  Age  Years_employed Income_type  \\\n",
       "0              30         65000   41              15     Working   \n",
       "\n",
       "     Education_type         Family_status      Housing_type  \\\n",
       "0  Higher education  Single / not married  Rented apartment   \n",
       "\n",
       "         Occupation_type  \n",
       "0  High skill tech staff  "
      ]
     },
     "execution_count": 66,
     "metadata": {},
     "output_type": "execute_result"
    }
   ],
   "source": [
    "df.head()"
   ]
  },
  {
   "cell_type": "code",
   "execution_count": 68,
   "id": "e4dc8013",
   "metadata": {},
   "outputs": [],
   "source": [
    "df_categ = df.loc[:, ['Income_type', 'Education_type', 'Family_status', 'Housing_type', 'Occupation_type']]\n",
    "df_numerical = df.loc[:, ['Gender', 'Own_car', 'Own_property', 'Unemployed', 'Num_children',\n",
    "       'Num_family', 'Account_length', 'Total_income', 'Age', 'Years_employed']]\n",
    "df_categ_one_hot = pd.get_dummies(df_categ)\n",
    "df_ready = pd.concat([df_numerical, df_categ_one_hot], axis=1)"
   ]
  },
  {
   "cell_type": "code",
   "execution_count": 71,
   "id": "18026702",
   "metadata": {},
   "outputs": [
    {
     "data": {
      "text/html": [
       "<div>\n",
       "<style scoped>\n",
       "    .dataframe tbody tr th:only-of-type {\n",
       "        vertical-align: middle;\n",
       "    }\n",
       "\n",
       "    .dataframe tbody tr th {\n",
       "        vertical-align: top;\n",
       "    }\n",
       "\n",
       "    .dataframe thead th {\n",
       "        text-align: right;\n",
       "    }\n",
       "</style>\n",
       "<table border=\"1\" class=\"dataframe\">\n",
       "  <thead>\n",
       "    <tr style=\"text-align: right;\">\n",
       "      <th></th>\n",
       "      <th>Gender</th>\n",
       "      <th>Own_car</th>\n",
       "      <th>Own_property</th>\n",
       "      <th>Unemployed</th>\n",
       "      <th>Num_children</th>\n",
       "      <th>Num_family</th>\n",
       "      <th>Account_length</th>\n",
       "      <th>Total_income</th>\n",
       "      <th>Age</th>\n",
       "      <th>Years_employed</th>\n",
       "      <th>...</th>\n",
       "      <th>Occupation_type_Low-skill Laborers</th>\n",
       "      <th>Occupation_type_Managers</th>\n",
       "      <th>Occupation_type_Medicine staff</th>\n",
       "      <th>Occupation_type_Other</th>\n",
       "      <th>Occupation_type_Private service staff</th>\n",
       "      <th>Occupation_type_Realty agents</th>\n",
       "      <th>Occupation_type_Sales staff</th>\n",
       "      <th>Occupation_type_Secretaries</th>\n",
       "      <th>Occupation_type_Security staff</th>\n",
       "      <th>Occupation_type_Waiters/barmen staff</th>\n",
       "    </tr>\n",
       "  </thead>\n",
       "  <tbody>\n",
       "    <tr>\n",
       "      <th>0</th>\n",
       "      <td>1</td>\n",
       "      <td>1</td>\n",
       "      <td>0</td>\n",
       "      <td>1</td>\n",
       "      <td>0</td>\n",
       "      <td>1</td>\n",
       "      <td>30</td>\n",
       "      <td>65000</td>\n",
       "      <td>41</td>\n",
       "      <td>15</td>\n",
       "      <td>...</td>\n",
       "      <td>0</td>\n",
       "      <td>0</td>\n",
       "      <td>0</td>\n",
       "      <td>0</td>\n",
       "      <td>0</td>\n",
       "      <td>0</td>\n",
       "      <td>0</td>\n",
       "      <td>0</td>\n",
       "      <td>0</td>\n",
       "      <td>0</td>\n",
       "    </tr>\n",
       "  </tbody>\n",
       "</table>\n",
       "<p>1 rows × 50 columns</p>\n",
       "</div>"
      ],
      "text/plain": [
       "  Gender Own_car Own_property Unemployed  Num_children  Num_family  \\\n",
       "0      1       1            0          1             0           1   \n",
       "\n",
       "   Account_length  Total_income  Age  Years_employed  ...  \\\n",
       "0              30         65000   41              15  ...   \n",
       "\n",
       "   Occupation_type_Low-skill Laborers  Occupation_type_Managers  \\\n",
       "0                                   0                         0   \n",
       "\n",
       "   Occupation_type_Medicine staff  Occupation_type_Other  \\\n",
       "0                               0                      0   \n",
       "\n",
       "   Occupation_type_Private service staff  Occupation_type_Realty agents  \\\n",
       "0                                      0                              0   \n",
       "\n",
       "   Occupation_type_Sales staff  Occupation_type_Secretaries  \\\n",
       "0                            0                            0   \n",
       "\n",
       "   Occupation_type_Security staff  Occupation_type_Waiters/barmen staff  \n",
       "0                               0                                     0  \n",
       "\n",
       "[1 rows x 50 columns]"
      ]
     },
     "execution_count": 71,
     "metadata": {},
     "output_type": "execute_result"
    }
   ],
   "source": [
    "df_ready"
   ]
  },
  {
   "cell_type": "code",
   "execution_count": 199,
   "id": "73ffbf25",
   "metadata": {},
   "outputs": [
    {
     "name": "stdout",
     "output_type": "stream",
     "text": [
      "<class 'pandas.core.frame.DataFrame'>\n",
      "RangeIndex: 1 entries, 0 to 0\n",
      "Data columns (total 50 columns):\n",
      " #   Column                                        Non-Null Count  Dtype \n",
      "---  ------                                        --------------  ----- \n",
      " 0   Gender                                        1 non-null      object\n",
      " 1   Own_car                                       1 non-null      object\n",
      " 2   Own_property                                  1 non-null      object\n",
      " 3   Unemployed                                    1 non-null      object\n",
      " 4   Num_children                                  1 non-null      int64 \n",
      " 5   Num_family                                    1 non-null      int64 \n",
      " 6   Account_length                                1 non-null      int64 \n",
      " 7   Total_income                                  1 non-null      int64 \n",
      " 8   Age                                           1 non-null      int64 \n",
      " 9   Years_employed                                1 non-null      int64 \n",
      " 10  Income_type_Working                           1 non-null      uint8 \n",
      " 11  Education_type_Higher education               1 non-null      uint8 \n",
      " 12  Family_status_Single / not married            1 non-null      uint8 \n",
      " 13  Housing_type_Rented apartment                 1 non-null      uint8 \n",
      " 14  Occupation_type_High skill tech staff         1 non-null      uint8 \n",
      " 15  Income_type_Commercial associate              1 non-null      int64 \n",
      " 16  Income_type_Pensioner                         1 non-null      int64 \n",
      " 17  Income_type_State servant                     1 non-null      int64 \n",
      " 18  Income_type_Student                           1 non-null      int64 \n",
      " 19  Education_type_Academic degree                1 non-null      int64 \n",
      " 20  Education_type_Incomplete higher              1 non-null      int64 \n",
      " 21  Education_type_Lower secondary                1 non-null      int64 \n",
      " 22  Education_type_Secondary / secondary special  1 non-null      int64 \n",
      " 23  Family_status_Civil marriage                  1 non-null      int64 \n",
      " 24  Family_status_Married                         1 non-null      int64 \n",
      " 25  Family_status_Separated                       1 non-null      int64 \n",
      " 26  Family_status_Widow                           1 non-null      int64 \n",
      " 27  Housing_type_Co-op apartment                  1 non-null      int64 \n",
      " 28  Housing_type_House / apartment                1 non-null      int64 \n",
      " 29  Housing_type_Municipal apartment              1 non-null      int64 \n",
      " 30  Housing_type_Office apartment                 1 non-null      int64 \n",
      " 31  Housing_type_With parents                     1 non-null      int64 \n",
      " 32  Occupation_type_Accountants                   1 non-null      int64 \n",
      " 33  Occupation_type_Cleaning staff                1 non-null      int64 \n",
      " 34  Occupation_type_Cooking staff                 1 non-null      int64 \n",
      " 35  Occupation_type_Core staff                    1 non-null      int64 \n",
      " 36  Occupation_type_Drivers                       1 non-null      int64 \n",
      " 37  Occupation_type_HR staff                      1 non-null      int64 \n",
      " 38  Occupation_type_IT staff                      1 non-null      int64 \n",
      " 39  Occupation_type_Laborers                      1 non-null      int64 \n",
      " 40  Occupation_type_Low-skill Laborers            1 non-null      int64 \n",
      " 41  Occupation_type_Managers                      1 non-null      int64 \n",
      " 42  Occupation_type_Medicine staff                1 non-null      int64 \n",
      " 43  Occupation_type_Other                         1 non-null      int64 \n",
      " 44  Occupation_type_Private service staff         1 non-null      int64 \n",
      " 45  Occupation_type_Realty agents                 1 non-null      int64 \n",
      " 46  Occupation_type_Sales staff                   1 non-null      int64 \n",
      " 47  Occupation_type_Secretaries                   1 non-null      int64 \n",
      " 48  Occupation_type_Security staff                1 non-null      int64 \n",
      " 49  Occupation_type_Waiters/barmen staff          1 non-null      int64 \n",
      "dtypes: int64(41), object(4), uint8(5)\n",
      "memory usage: 493.0+ bytes\n"
     ]
    }
   ],
   "source": [
    "df_ready.info()"
   ]
  },
  {
   "cell_type": "code",
   "execution_count": 70,
   "id": "0d12d6b5",
   "metadata": {},
   "outputs": [],
   "source": [
    "for col in dfcc_categ_one_hot.columns:\n",
    "    if col not in df_ready.columns:\n",
    "        df_ready[col] = 0"
   ]
  },
  {
   "cell_type": "code",
   "execution_count": 74,
   "id": "81a5e021",
   "metadata": {},
   "outputs": [],
   "source": [
    "final_values = []\n",
    "for col in dfccml.columns:\n",
    "    final_values.append(df_ready.loc[0, col])"
   ]
  },
  {
   "cell_type": "code",
   "execution_count": 81,
   "id": "a9c3b997",
   "metadata": {},
   "outputs": [],
   "source": [
    "final_values = [final_values]"
   ]
  },
  {
   "cell_type": "code",
   "execution_count": 78,
   "id": "4d37d5c8",
   "metadata": {},
   "outputs": [],
   "source": [
    "import pickle"
   ]
  },
  {
   "cell_type": "code",
   "execution_count": 79,
   "id": "e8fba844",
   "metadata": {},
   "outputs": [],
   "source": [
    "pickled_model = pickle.load(open('lgb_cc_model.pkl', 'rb'))"
   ]
  },
  {
   "cell_type": "code",
   "execution_count": 82,
   "id": "159e77eb",
   "metadata": {},
   "outputs": [],
   "source": [
    "preds = pickled_model.predict(final_values)\n",
    "proba = pickled_model.predict_proba(final_values)"
   ]
  },
  {
   "cell_type": "code",
   "execution_count": 83,
   "id": "174b7cd7",
   "metadata": {},
   "outputs": [
    {
     "data": {
      "text/plain": [
       "array([0], dtype=int64)"
      ]
     },
     "execution_count": 83,
     "metadata": {},
     "output_type": "execute_result"
    }
   ],
   "source": [
    "preds"
   ]
  },
  {
   "cell_type": "code",
   "execution_count": 84,
   "id": "f1654fe6",
   "metadata": {},
   "outputs": [
    {
     "data": {
      "text/plain": [
       "array([[0.91190945, 0.08809055]])"
      ]
     },
     "execution_count": 84,
     "metadata": {},
     "output_type": "execute_result"
    }
   ],
   "source": [
    "proba"
   ]
  },
  {
   "cell_type": "code",
   "execution_count": 92,
   "id": "8f2e861f",
   "metadata": {},
   "outputs": [
    {
     "data": {
      "text/plain": [
       "Index(['Income_type_Commercial associate', 'Income_type_Pensioner',\n",
       "       'Income_type_State servant', 'Income_type_Student',\n",
       "       'Income_type_Working', 'Education_type_Academic degree',\n",
       "       'Education_type_Higher education', 'Education_type_Incomplete higher',\n",
       "       'Education_type_Lower secondary',\n",
       "       'Education_type_Secondary / secondary special',\n",
       "       'Family_status_Civil marriage', 'Family_status_Married',\n",
       "       'Family_status_Separated', 'Family_status_Single / not married',\n",
       "       'Family_status_Widow', 'Housing_type_Co-op apartment',\n",
       "       'Housing_type_House / apartment', 'Housing_type_Municipal apartment',\n",
       "       'Housing_type_Office apartment', 'Housing_type_Rented apartment',\n",
       "       'Housing_type_With parents', 'Occupation_type_Accountants',\n",
       "       'Occupation_type_Cleaning staff', 'Occupation_type_Cooking staff',\n",
       "       'Occupation_type_Core staff', 'Occupation_type_Drivers',\n",
       "       'Occupation_type_HR staff', 'Occupation_type_High skill tech staff',\n",
       "       'Occupation_type_IT staff', 'Occupation_type_Laborers',\n",
       "       'Occupation_type_Low-skill Laborers', 'Occupation_type_Managers',\n",
       "       'Occupation_type_Medicine staff', 'Occupation_type_Other',\n",
       "       'Occupation_type_Private service staff',\n",
       "       'Occupation_type_Realty agents', 'Occupation_type_Sales staff',\n",
       "       'Occupation_type_Secretaries', 'Occupation_type_Security staff',\n",
       "       'Occupation_type_Waiters/barmen staff'],\n",
       "      dtype='object')"
      ]
     },
     "execution_count": 92,
     "metadata": {},
     "output_type": "execute_result"
    }
   ],
   "source": [
    "dfcc_categ_one_hot.columns"
   ]
  },
  {
   "cell_type": "code",
   "execution_count": 93,
   "id": "ec7d5952",
   "metadata": {},
   "outputs": [
    {
     "data": {
      "text/plain": [
       "Index(['Gender', 'Own_car', 'Own_property', 'Unemployed', 'Num_children',\n",
       "       'Num_family', 'Account_length', 'Total_income', 'Age', 'Years_employed',\n",
       "       'Income_type_Commercial associate', 'Income_type_Pensioner',\n",
       "       'Income_type_State servant', 'Income_type_Student',\n",
       "       'Income_type_Working', 'Education_type_Academic degree',\n",
       "       'Education_type_Higher education', 'Education_type_Incomplete higher',\n",
       "       'Education_type_Lower secondary',\n",
       "       'Education_type_Secondary / secondary special',\n",
       "       'Family_status_Civil marriage', 'Family_status_Married',\n",
       "       'Family_status_Separated', 'Family_status_Single / not married',\n",
       "       'Family_status_Widow', 'Housing_type_Co-op apartment',\n",
       "       'Housing_type_House / apartment', 'Housing_type_Municipal apartment',\n",
       "       'Housing_type_Office apartment', 'Housing_type_Rented apartment',\n",
       "       'Housing_type_With parents', 'Occupation_type_Accountants',\n",
       "       'Occupation_type_Cleaning staff', 'Occupation_type_Cooking staff',\n",
       "       'Occupation_type_Core staff', 'Occupation_type_Drivers',\n",
       "       'Occupation_type_HR staff', 'Occupation_type_High skill tech staff',\n",
       "       'Occupation_type_IT staff', 'Occupation_type_Laborers',\n",
       "       'Occupation_type_Low-skill Laborers', 'Occupation_type_Managers',\n",
       "       'Occupation_type_Medicine staff', 'Occupation_type_Other',\n",
       "       'Occupation_type_Private service staff',\n",
       "       'Occupation_type_Realty agents', 'Occupation_type_Sales staff',\n",
       "       'Occupation_type_Secretaries', 'Occupation_type_Security staff',\n",
       "       'Occupation_type_Waiters/barmen staff'],\n",
       "      dtype='object')"
      ]
     },
     "execution_count": 93,
     "metadata": {},
     "output_type": "execute_result"
    }
   ],
   "source": [
    "dfccml.columns"
   ]
  },
  {
   "cell_type": "code",
   "execution_count": 205,
   "id": "86005cf5",
   "metadata": {},
   "outputs": [],
   "source": [
    "def modelHelper(data):\n",
    "    \n",
    "    gender_dict = {'Male': 1, 'Female': 0}\n",
    "    yes_no_dict = {'Yes': 1, 'No': 0}\n",
    "    occupation_type_dict = {'Other': 'Other', 'Labor': 'Laborers', 'Sales': 'Sales staff',\n",
    "                             'Core Staff': 'Core staff',\n",
    "                             'Manager': 'Managers',\n",
    "                             'Transport': 'Drivers',\n",
    "                             'High Skill Technology': 'High skill tech staff',\n",
    "                             'Accountant': 'Accountants',\n",
    "                             'Medical Staff': 'Medicine staff',\n",
    "                             'Kitchen Services': 'Cooking staff',\n",
    "                             'Security': 'Security staff',\n",
    "                             'Cleaning Services': 'Cleaning staff',\n",
    "                             'Private Services': 'Private service staff',\n",
    "                             'Low-skill Labor': 'Low-skill Laborers',\n",
    "                             'Secretary': 'Secretaries',\n",
    "                             'Waiter/Bartender': 'Waiters/barmen staff',\n",
    "                             'Human Resources': 'HR staff',\n",
    "                             'Information Technology': 'IT staff',\n",
    "                             'Realtor': 'Realty agents' }\n",
    "    education_type_dict = {'Secondary': 'Secondary / secondary special',\n",
    "                             'College Graduate': 'Higher education',\n",
    "                             'Some College': 'Incomplete higher',\n",
    "                             'Lower Secondary': 'Lower secondary',\n",
    "                             'Post-Graduate Degree': 'Academic degree'}\n",
    "    family_status_dict = {'Married': 'Married', 'Single': 'Single / not married', 'Civil Marriage': 'Civil marriage', 'Separated': 'Separated',\n",
    "                          'Widowed': 'Widow'}\n",
    "    housing_type_dict = {'Own House/Apartment': 'House / apartment',\n",
    "                         'With Parents': 'With parents',\n",
    "                         'Municipal Apartment': 'Municipal apartment',\n",
    "                         'Rented Apartment': 'Rented apartment',\n",
    "                         'Office Apartment': 'Office apartment',\n",
    "                         'Co-op Apartment': 'Co-op apartment'}\n",
    "    \n",
    "    one_hot_cols = ['Income_type_Commercial associate', 'Income_type_Pensioner',\n",
    "       'Income_type_State servant', 'Income_type_Student',\n",
    "       'Income_type_Working', 'Education_type_Academic degree',\n",
    "       'Education_type_Higher education', 'Education_type_Incomplete higher',\n",
    "       'Education_type_Lower secondary',\n",
    "       'Education_type_Secondary / secondary special',\n",
    "       'Family_status_Civil marriage', 'Family_status_Married',\n",
    "       'Family_status_Separated', 'Family_status_Single / not married',\n",
    "       'Family_status_Widow', 'Housing_type_Co-op apartment',\n",
    "       'Housing_type_House / apartment', 'Housing_type_Municipal apartment',\n",
    "       'Housing_type_Office apartment', 'Housing_type_Rented apartment',\n",
    "       'Housing_type_With parents', 'Occupation_type_Accountants',\n",
    "       'Occupation_type_Cleaning staff', 'Occupation_type_Cooking staff',\n",
    "       'Occupation_type_Core staff', 'Occupation_type_Drivers',\n",
    "       'Occupation_type_HR staff', 'Occupation_type_High skill tech staff',\n",
    "       'Occupation_type_IT staff', 'Occupation_type_Laborers',\n",
    "       'Occupation_type_Low-skill Laborers', 'Occupation_type_Managers',\n",
    "       'Occupation_type_Medicine staff', 'Occupation_type_Other',\n",
    "       'Occupation_type_Private service staff',\n",
    "       'Occupation_type_Realty agents', 'Occupation_type_Sales staff',\n",
    "       'Occupation_type_Secretaries', 'Occupation_type_Security staff',\n",
    "       'Occupation_type_Waiters/barmen staff']\n",
    "    final_cols = ['Gender', 'Own_car', 'Own_property', 'Unemployed', 'Num_children',\n",
    "       'Num_family', 'Account_length', 'Total_income', 'Age', 'Years_employed',\n",
    "       'Income_type_Commercial associate', 'Income_type_Pensioner',\n",
    "       'Income_type_State servant', 'Income_type_Student',\n",
    "       'Income_type_Working', 'Education_type_Academic degree',\n",
    "       'Education_type_Higher education', 'Education_type_Incomplete higher',\n",
    "       'Education_type_Lower secondary',\n",
    "       'Education_type_Secondary / secondary special',\n",
    "       'Family_status_Civil marriage', 'Family_status_Married',\n",
    "       'Family_status_Separated', 'Family_status_Single / not married',\n",
    "       'Family_status_Widow', 'Housing_type_Co-op apartment',\n",
    "       'Housing_type_House / apartment', 'Housing_type_Municipal apartment',\n",
    "       'Housing_type_Office apartment', 'Housing_type_Rented apartment',\n",
    "       'Housing_type_With parents', 'Occupation_type_Accountants',\n",
    "       'Occupation_type_Cleaning staff', 'Occupation_type_Cooking staff',\n",
    "       'Occupation_type_Core staff', 'Occupation_type_Drivers',\n",
    "       'Occupation_type_HR staff', 'Occupation_type_High skill tech staff',\n",
    "       'Occupation_type_IT staff', 'Occupation_type_Laborers',\n",
    "       'Occupation_type_Low-skill Laborers', 'Occupation_type_Managers',\n",
    "       'Occupation_type_Medicine staff', 'Occupation_type_Other',\n",
    "       'Occupation_type_Private service staff',\n",
    "       'Occupation_type_Realty agents', 'Occupation_type_Sales staff',\n",
    "       'Occupation_type_Secretaries', 'Occupation_type_Security staff',\n",
    "       'Occupation_type_Waiters/barmen staff']\n",
    "    \n",
    "    data2 = [data]\n",
    "    df = pd.DataFrame(data2)\n",
    "    \n",
    "    df.loc[0, 'Gender'] = gender_dict[df.loc[0, 'Gender']]\n",
    "    df.loc[0, 'Own_car'] = yes_no_dict[df.loc[0, 'Own_car']]\n",
    "    df.loc[0, 'Own_property'] = yes_no_dict[df.loc[0, 'Own_property']]\n",
    "    df.loc[0, 'Unemployed'] = yes_no_dict[df.loc[0, 'Unemployed']]\n",
    "    \n",
    "    df.loc[0, 'Education_type'] = education_type_dict[df.loc[0, 'Education_type']]\n",
    "    df.loc[0, 'Family_status'] = family_status_dict[df.loc[0, 'Family_status']]\n",
    "    df.loc[0, 'Housing_type'] = housing_type_dict[df.loc[0, 'Housing_type']]\n",
    "    df.loc[0, 'Occupation_type'] = occupation_type_dict[df.loc[0, 'Occupation_type']]\n",
    "    \n",
    "    \n",
    "    \n",
    "    df_categ = df.loc[:, ['Income_type', 'Education_type', 'Family_status', 'Housing_type', 'Occupation_type']]\n",
    "    df_numerical = df.loc[:, ['Gender', 'Own_car', 'Own_property', 'Unemployed', 'Num_children',\n",
    "                               'Num_family', 'Account_length', 'Total_income', 'Age', 'Years_employed']]\n",
    "    df_categ_one_hot = pd.get_dummies(df_categ)\n",
    "    df_ready = pd.concat([df_numerical, df_categ_one_hot], axis=1)\n",
    "    \n",
    "    for col in one_hot_cols:\n",
    "        if col not in df_ready.columns:\n",
    "            df_ready[col] = 0\n",
    "    \n",
    "    cols = ['Gender', 'Own_car', 'Own_property', 'Unemployed']\n",
    "    for col in cols:\n",
    "        df_ready[col].astype('int')\n",
    "        \n",
    "    print(df_ready.info())\n",
    "    \n",
    "    final_values = []\n",
    "    for col in final_cols:\n",
    "        final_values.append(df_ready.loc[0, col])\n",
    "    \n",
    "    final_values = [final_values]\n",
    "    \n",
    "    pickled_model = pickle.load(open('lgb_cc_model.pkl', 'rb'))\n",
    "    pred = pickled_model.predict(final_values)\n",
    "    prob = pickled_model.predict_proba(final_values)\n",
    "    print(f'Prediction: {pred[0]}  Probability: {prob[0][1]}')"
   ]
  },
  {
   "cell_type": "code",
   "execution_count": 201,
   "id": "f8b54aff",
   "metadata": {},
   "outputs": [],
   "source": [
    "more_data = {'Gender': 'Male', 'Own_car': 'No', 'Own_property': 'No', 'Unemployed': 'Yes', 'Num_children': 10, 'Num_family': 11, 'Account_length': 20, 'Total_income': 111110, 'Age': 20, 'Years_employed': 22, 'Income_type': 'Student', 'Education_type': 'Some College', 'Family_status': 'Single', 'Housing_type': 'With Parents', 'Occupation_type': 'Information Technology'}"
   ]
  },
  {
   "cell_type": "code",
   "execution_count": 206,
   "id": "efa4f106",
   "metadata": {},
   "outputs": [
    {
     "name": "stdout",
     "output_type": "stream",
     "text": [
      "<class 'pandas.core.frame.DataFrame'>\n",
      "RangeIndex: 1 entries, 0 to 0\n",
      "Data columns (total 50 columns):\n",
      " #   Column                                        Non-Null Count  Dtype \n",
      "---  ------                                        --------------  ----- \n",
      " 0   Gender                                        1 non-null      object\n",
      " 1   Own_car                                       1 non-null      object\n",
      " 2   Own_property                                  1 non-null      object\n",
      " 3   Unemployed                                    1 non-null      object\n",
      " 4   Num_children                                  1 non-null      int64 \n",
      " 5   Num_family                                    1 non-null      int64 \n",
      " 6   Account_length                                1 non-null      int64 \n",
      " 7   Total_income                                  1 non-null      int64 \n",
      " 8   Age                                           1 non-null      int64 \n",
      " 9   Years_employed                                1 non-null      int64 \n",
      " 10  Income_type_Student                           1 non-null      uint8 \n",
      " 11  Education_type_Incomplete higher              1 non-null      uint8 \n",
      " 12  Family_status_Single / not married            1 non-null      uint8 \n",
      " 13  Housing_type_With parents                     1 non-null      uint8 \n",
      " 14  Occupation_type_IT staff                      1 non-null      uint8 \n",
      " 15  Income_type_Commercial associate              1 non-null      int64 \n",
      " 16  Income_type_Pensioner                         1 non-null      int64 \n",
      " 17  Income_type_State servant                     1 non-null      int64 \n",
      " 18  Income_type_Working                           1 non-null      int64 \n",
      " 19  Education_type_Academic degree                1 non-null      int64 \n",
      " 20  Education_type_Higher education               1 non-null      int64 \n",
      " 21  Education_type_Lower secondary                1 non-null      int64 \n",
      " 22  Education_type_Secondary / secondary special  1 non-null      int64 \n",
      " 23  Family_status_Civil marriage                  1 non-null      int64 \n",
      " 24  Family_status_Married                         1 non-null      int64 \n",
      " 25  Family_status_Separated                       1 non-null      int64 \n",
      " 26  Family_status_Widow                           1 non-null      int64 \n",
      " 27  Housing_type_Co-op apartment                  1 non-null      int64 \n",
      " 28  Housing_type_House / apartment                1 non-null      int64 \n",
      " 29  Housing_type_Municipal apartment              1 non-null      int64 \n",
      " 30  Housing_type_Office apartment                 1 non-null      int64 \n",
      " 31  Housing_type_Rented apartment                 1 non-null      int64 \n",
      " 32  Occupation_type_Accountants                   1 non-null      int64 \n",
      " 33  Occupation_type_Cleaning staff                1 non-null      int64 \n",
      " 34  Occupation_type_Cooking staff                 1 non-null      int64 \n",
      " 35  Occupation_type_Core staff                    1 non-null      int64 \n",
      " 36  Occupation_type_Drivers                       1 non-null      int64 \n",
      " 37  Occupation_type_HR staff                      1 non-null      int64 \n",
      " 38  Occupation_type_High skill tech staff         1 non-null      int64 \n",
      " 39  Occupation_type_Laborers                      1 non-null      int64 \n",
      " 40  Occupation_type_Low-skill Laborers            1 non-null      int64 \n",
      " 41  Occupation_type_Managers                      1 non-null      int64 \n",
      " 42  Occupation_type_Medicine staff                1 non-null      int64 \n",
      " 43  Occupation_type_Other                         1 non-null      int64 \n",
      " 44  Occupation_type_Private service staff         1 non-null      int64 \n",
      " 45  Occupation_type_Realty agents                 1 non-null      int64 \n",
      " 46  Occupation_type_Sales staff                   1 non-null      int64 \n",
      " 47  Occupation_type_Secretaries                   1 non-null      int64 \n",
      " 48  Occupation_type_Security staff                1 non-null      int64 \n",
      " 49  Occupation_type_Waiters/barmen staff          1 non-null      int64 \n",
      "dtypes: int64(41), object(4), uint8(5)\n",
      "memory usage: 493.0+ bytes\n",
      "None\n",
      "Prediction: 0  Probability: 0.3182218173314735\n"
     ]
    }
   ],
   "source": [
    "modelHelper(more_data)"
   ]
  },
  {
   "cell_type": "code",
   "execution_count": null,
   "id": "e2cc7d7c",
   "metadata": {},
   "outputs": [],
   "source": []
  },
  {
   "cell_type": "code",
   "execution_count": 126,
   "id": "d9f69b10",
   "metadata": {},
   "outputs": [
    {
     "data": {
      "text/plain": [
       "dict"
      ]
     },
     "execution_count": 126,
     "metadata": {},
     "output_type": "execute_result"
    }
   ],
   "source": [
    "type(more_data)"
   ]
  }
 ],
 "metadata": {
  "kernelspec": {
   "display_name": "Python 3 (ipykernel)",
   "language": "python",
   "name": "python3"
  },
  "language_info": {
   "codemirror_mode": {
    "name": "ipython",
    "version": 3
   },
   "file_extension": ".py",
   "mimetype": "text/x-python",
   "name": "python",
   "nbconvert_exporter": "python",
   "pygments_lexer": "ipython3",
   "version": "3.9.12"
  }
 },
 "nbformat": 4,
 "nbformat_minor": 5
}
